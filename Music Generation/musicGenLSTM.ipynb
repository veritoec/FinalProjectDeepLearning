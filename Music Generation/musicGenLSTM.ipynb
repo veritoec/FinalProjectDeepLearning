{
  "nbformat": 4,
  "nbformat_minor": 0,
  "metadata": {
    "colab": {
      "name": "musicGenLSTM.ipynb",
      "provenance": [],
      "collapsed_sections": []
    },
    "kernelspec": {
      "name": "python3",
      "display_name": "Python 3"
    },
    "language_info": {
      "name": "python"
    },
    "accelerator": "GPU"
  },
  "cells": [
    {
      "cell_type": "code",
      "execution_count": 1,
      "metadata": {
        "colab": {
          "base_uri": "https://localhost:8080/"
        },
        "id": "braTGxNZtyXm",
        "outputId": "7a6575ed-df04-4fc8-f1c5-95643b8910bc"
      },
      "outputs": [
        {
          "output_type": "stream",
          "name": "stdout",
          "text": [
            "Mounted at /content/drive\n"
          ]
        }
      ],
      "source": [
        "%matplotlib inline\n",
        "import os\n",
        "import sys\n",
        "import random\n",
        "\n",
        "import scipy.io as sio\n",
        "from google.colab import drive\n",
        "import matplotlib.pyplot as plt\n",
        "import numpy as np\n",
        "from PIL import Image\n",
        "# Mount Google Drive\n",
        "drive.mount('/content/drive')\n",
        "data_path = '/content/drive/Shareddrives/Deep Learning/DeepLearning_2022/Final Project/Data/'\n",
        "results_path = '/content/drive/Shareddrives/Deep Learning/DeepLearning_2022/Final Project/Results/'\n",
        "sys.path.append('/content/drive/Shareddrives/Deep Learning/DeepLearning_2022/Final Project/midi')\n",
        "\n",
        "# All the data will be loaded from the provided file in Data/mnist.t\n",
        "import torch \n",
        "import torch.nn as nn\n",
        "import torchvision\n",
        "import torchvision.transforms as tf\n",
        "import torch.utils.data as data\n",
        "from torch.autograd import Variable\n",
        "\n",
        "from utils import midiread, midiwrite\n",
        "from matplotlib import pyplot as plt\n",
        "import skimage.io as io\n",
        "from IPython.display import FileLink\n",
        "os.environ[\"CUDA_VISIBLE_DEVICES\"] = '0'\n"
      ]
    },
    {
      "cell_type": "code",
      "source": [
        "%%script echo skipping\n",
        "a = 3"
      ],
      "metadata": {
        "id": "mQ0UjZLq77EV",
        "colab": {
          "base_uri": "https://localhost:8080/"
        },
        "outputId": "9578bad2-77f0-4dc5-d14a-76dd20058aa6"
      },
      "execution_count": 2,
      "outputs": [
        {
          "output_type": "stream",
          "name": "stdout",
          "text": [
            "skipping\n"
          ]
        }
      ]
    },
    {
      "cell_type": "markdown",
      "source": [
        "# DataLoader"
      ],
      "metadata": {
        "id": "0tUGS-Y2wwOZ"
      }
    },
    {
      "cell_type": "code",
      "source": [
        "def midi_filename_to_piano_roll(midi_filename):\n",
        "    \n",
        "    midi_data = midiread(midi_filename, dt=0.3)\n",
        "    \n",
        "    piano_roll = midi_data.piano_roll.transpose()\n",
        "    \n",
        "    # Pressed notes are replaced by 1\n",
        "    piano_roll[piano_roll > 0] = 1\n",
        "    \n",
        "    return piano_roll\n",
        "\n",
        "\n",
        "def pad_piano_roll(piano_roll, max_length=132333, pad_value=0):\n",
        "        \n",
        "    original_piano_roll_length = piano_roll.shape[1]\n",
        "    \n",
        "    padded_piano_roll = np.zeros((88, max_length))\n",
        "    padded_piano_roll[:] = pad_value\n",
        "    \n",
        "    padded_piano_roll[:, -original_piano_roll_length:] = piano_roll\n",
        "\n",
        "    return padded_piano_roll"
      ],
      "metadata": {
        "id": "l3A67mDX6qlx"
      },
      "execution_count": 3,
      "outputs": []
    },
    {
      "cell_type": "code",
      "source": [
        "class NotesGenerationDataset(data.Dataset):\n",
        "    \n",
        "    def __init__(self, midi_folder_path, longest_sequence_length=1491):\n",
        "        \n",
        "        self.midi_folder_path = midi_folder_path\n",
        "        \n",
        "        midi_filenames = os.listdir(midi_folder_path)\n",
        "        \n",
        "        self.longest_sequence_length = longest_sequence_length\n",
        "        \n",
        "        midi_full_filenames = map(lambda filename: os.path.join(midi_folder_path, filename),midi_filenames)\n",
        "        \n",
        "        self.midi_full_filenames = list(midi_full_filenames)\n",
        "        \n",
        "        if longest_sequence_length is None:\n",
        "            \n",
        "            self.update_the_max_length()\n",
        "    \n",
        "    \n",
        "    def update_the_max_length(self):\n",
        "        \n",
        "        sequences_lengths = map(lambda filename: midi_filename_to_piano_roll(filename).shape[1],self.midi_full_filenames)\n",
        "        \n",
        "        max_length = max(sequences_lengths)\n",
        "        \n",
        "        self.longest_sequence_length = max_length\n",
        "                \n",
        "    \n",
        "    def __len__(self):\n",
        "        \n",
        "        return len(self.midi_full_filenames)\n",
        "    \n",
        "    def __getitem__(self, index):\n",
        "        \n",
        "        midi_full_filename = self.midi_full_filenames[index]\n",
        "        \n",
        "        piano_roll = midi_filename_to_piano_roll(midi_full_filename)\n",
        "        \n",
        "        # Shifting by one time step\n",
        "        sequence_length = piano_roll.shape[1] - 1\n",
        "        \n",
        "        # Shifting by one time step\n",
        "        input_sequence = piano_roll[:, :-1]\n",
        "        ground_truth_sequence = piano_roll[:, 1:]\n",
        "                \n",
        "        # padding sequence so that all of them have the same length\n",
        "        input_sequence_padded = pad_piano_roll(input_sequence, max_length=self.longest_sequence_length)\n",
        "        \n",
        "        ground_truth_sequence_padded = pad_piano_roll(ground_truth_sequence,max_length=self.longest_sequence_length,pad_value=-100)\n",
        "                \n",
        "        input_sequence_padded = input_sequence_padded.transpose()\n",
        "        ground_truth_sequence_padded = ground_truth_sequence_padded.transpose()\n",
        "        \n",
        "        return (torch.FloatTensor(input_sequence_padded),torch.LongTensor(ground_truth_sequence_padded),torch.LongTensor([sequence_length]) )\n",
        "\n",
        "    \n",
        "def post_process_sequence_batch(batch_tuple):\n",
        "    \n",
        "    input_sequences, output_sequences, lengths = batch_tuple\n",
        "    \n",
        "    splitted_input_sequence_batch = input_sequences.split(split_size=1)\n",
        "    splitted_output_sequence_batch = output_sequences.split(split_size=1)\n",
        "    splitted_lengths_batch = lengths.split(split_size=1)\n",
        "\n",
        "    training_data_tuples = zip(splitted_input_sequence_batch,\n",
        "                               splitted_output_sequence_batch,\n",
        "                               splitted_lengths_batch)\n",
        "\n",
        "    training_data_tuples_sorted = sorted(training_data_tuples,\n",
        "                                         key=lambda p: int(p[2]),\n",
        "                                         reverse=True)\n",
        "\n",
        "    splitted_input_sequence_batch, splitted_output_sequence_batch, splitted_lengths_batch = zip(*training_data_tuples_sorted)\n",
        "\n",
        "    input_sequence_batch_sorted = torch.cat(splitted_input_sequence_batch)\n",
        "    output_sequence_batch_sorted = torch.cat(splitted_output_sequence_batch)\n",
        "    lengths_batch_sorted = torch.cat(splitted_lengths_batch)\n",
        "    \n",
        "    input_sequence_batch_sorted = input_sequence_batch_sorted[:, -lengths_batch_sorted[0, 0]:, :]\n",
        "    output_sequence_batch_sorted = output_sequence_batch_sorted[:, -lengths_batch_sorted[0, 0]:, :]\n",
        "    \n",
        "    input_sequence_batch_transposed = input_sequence_batch_sorted.transpose(0, 1)\n",
        "    \n",
        "    lengths_batch_sorted_list = list(lengths_batch_sorted)\n",
        "    lengths_batch_sorted_list = map(lambda x: int(x), lengths_batch_sorted_list)\n",
        "    \n",
        "    return input_sequence_batch_transposed, output_sequence_batch_sorted, list(lengths_batch_sorted_list)"
      ],
      "metadata": {
        "id": "egSLGOEMwze5"
      },
      "execution_count": 4,
      "outputs": []
    },
    {
      "cell_type": "code",
      "source": [
        "trainset = NotesGenerationDataset(data_path + '/Nottingham/train/', longest_sequence_length=None)\n",
        "\n",
        "trainset_loader = data.DataLoader(trainset, batch_size=8,shuffle=True, drop_last=True)"
      ],
      "metadata": {
        "id": "9SguaDo0xHly"
      },
      "execution_count": 5,
      "outputs": []
    },
    {
      "cell_type": "code",
      "source": [
        "X = next(iter(trainset_loader))\n",
        "X[0].shape"
      ],
      "metadata": {
        "id": "n4_527G4n-PM",
        "colab": {
          "base_uri": "https://localhost:8080/"
        },
        "outputId": "baca561b-618e-4598-aaca-cdf633d8b86c"
      },
      "execution_count": 6,
      "outputs": [
        {
          "output_type": "execute_result",
          "data": {
            "text/plain": [
              "torch.Size([8, 1491, 88])"
            ]
          },
          "metadata": {},
          "execution_count": 6
        }
      ]
    },
    {
      "cell_type": "code",
      "source": [
        "valset = NotesGenerationDataset(data_path + '/Nottingham/valid/', longest_sequence_length=None)\n",
        "\n",
        "valset_loader = data.DataLoader(valset, batch_size=8, shuffle=False, drop_last=False)"
      ],
      "metadata": {
        "id": "Zwde-yvroBCl"
      },
      "execution_count": 7,
      "outputs": []
    },
    {
      "cell_type": "code",
      "source": [
        "X_val = next(iter(valset_loader))\n",
        "X_val[0].shape"
      ],
      "metadata": {
        "id": "7dbxLknxoDIa",
        "colab": {
          "base_uri": "https://localhost:8080/"
        },
        "outputId": "40e887b4-6f30-4b26-d931-a555393a59c1"
      },
      "execution_count": 8,
      "outputs": [
        {
          "output_type": "execute_result",
          "data": {
            "text/plain": [
              "torch.Size([8, 1229, 88])"
            ]
          },
          "metadata": {},
          "execution_count": 8
        }
      ]
    },
    {
      "cell_type": "markdown",
      "source": [
        "# LSTM"
      ],
      "metadata": {
        "id": "Sw4sz1KPxQXk"
      }
    },
    {
      "cell_type": "code",
      "source": [
        "class RNN(nn.Module):\n",
        "    \n",
        "    def __init__(self, input_size, hidden_size, num_classes, n_layers=2):\n",
        "        \n",
        "        super(RNN, self).__init__()\n",
        "        \n",
        "        self.input_size = input_size\n",
        "        self.hidden_size = hidden_size\n",
        "        self.num_classes = num_classes\n",
        "        self.n_layers = n_layers\n",
        "        \n",
        "        self.notes_encoder = nn.Linear(in_features=input_size, out_features=hidden_size)\n",
        "        \n",
        "        self.bn = nn.BatchNorm1d(hidden_size)\n",
        "        \n",
        "        self.lstm = nn.LSTM(hidden_size, hidden_size, n_layers)\n",
        "        \n",
        "        self.logits_fc = nn.Linear(hidden_size, num_classes)\n",
        "    \n",
        "    \n",
        "    def forward(self, input_sequences, input_sequences_lengths, hidden=None):\n",
        "        batch_size = input_sequences.shape[1]\n",
        "\n",
        "        notes_encoded = self.notes_encoder(input_sequences)\n",
        "        \n",
        "        notes_encoded_rolled = notes_encoded.permute(1,2,0).contiguous()\n",
        "        notes_encoded_norm = self.bn(notes_encoded_rolled)\n",
        "        \n",
        "        notes_encoded_norm_drop = nn.Dropout(0.25)(notes_encoded_norm)\n",
        "        notes_encoded_complete = notes_encoded_norm_drop.permute(2,0,1)\n",
        "        \n",
        "        # Here we run rnns only on non-padded regions of the batch\n",
        "        packed = torch.nn.utils.rnn.pack_padded_sequence(notes_encoded_complete, input_sequences_lengths)\n",
        "        outputs, hidden = self.lstm(packed, hidden)\n",
        "        \n",
        "        # Here we unpack sequence(back to padded)\n",
        "        outputs, output_lengths = torch.nn.utils.rnn.pad_packed_sequence(outputs)\n",
        "        \n",
        "        outputs_norm = self.bn(outputs.permute(1,2,0).contiguous())\n",
        "        outputs_drop = nn.Dropout(0.1)(outputs_norm)\n",
        "        logits = self.logits_fc(outputs_drop.permute(2,0,1))\n",
        "        logits = logits.transpose(0, 1).contiguous()\n",
        "        \n",
        "        neg_logits = (1 - logits)\n",
        "        \n",
        "        # Since the BCE loss doesn't support masking,crossentropy is used\n",
        "        binary_logits = torch.stack((logits, neg_logits), dim=3).contiguous()\n",
        "        logits_flatten = binary_logits.view(-1, 2)\n",
        "        return logits_flatten, hidden"
      ],
      "metadata": {
        "id": "_hCOx0PUxSdK"
      },
      "execution_count": 9,
      "outputs": []
    },
    {
      "cell_type": "code",
      "source": [
        "model = RNN(input_size=88, hidden_size=512, num_classes=88).cuda()\n",
        "\n",
        "criterion = nn.CrossEntropyLoss().cuda()\n",
        "criterion_val = nn.CrossEntropyLoss().cuda()"
      ],
      "metadata": {
        "id": "JEYDVFXMxaij"
      },
      "execution_count": 10,
      "outputs": []
    },
    {
      "cell_type": "code",
      "source": [
        "def validate(model):\n",
        "    model.eval()\n",
        "    full_val_loss = 0.0\n",
        "    overall_sequence_length = 0.0\n",
        "\n",
        "    for batch in valset_loader:\n",
        "\n",
        "        post_processed_batch_tuple = post_process_sequence_batch(batch)\n",
        "\n",
        "        input_sequences_batch, output_sequences_batch, sequences_lengths = post_processed_batch_tuple\n",
        "\n",
        "        output_sequences_batch_var =  Variable( output_sequences_batch.contiguous().view(-1).cuda() )\n",
        "\n",
        "        input_sequences_batch_var = Variable( input_sequences_batch.cuda() )\n",
        "\n",
        "        logits, _ = model(input_sequences_batch_var, sequences_lengths)\n",
        "\n",
        "        loss = criterion_val(logits, output_sequences_batch_var)\n",
        "\n",
        "        full_val_loss += loss.item()\n",
        "        overall_sequence_length += sum(sequences_lengths)\n",
        "\n",
        "    return full_val_loss / (overall_sequence_length * 88)"
      ],
      "metadata": {
        "id": "KQTP-kmoxbjW"
      },
      "execution_count": 11,
      "outputs": []
    },
    {
      "cell_type": "code",
      "source": [
        "validate(model)"
      ],
      "metadata": {
        "id": "qkdFFiNqodj4",
        "colab": {
          "base_uri": "https://localhost:8080/"
        },
        "outputId": "f7a02daa-41ed-4126-de44-1c9930aa6a6b"
      },
      "execution_count": 12,
      "outputs": [
        {
          "output_type": "execute_result",
          "data": {
            "text/plain": [
              "8.41491462212453e-06"
            ]
          },
          "metadata": {},
          "execution_count": 12
        }
      ]
    },
    {
      "cell_type": "code",
      "source": [
        "clip = 1.0\n",
        "epochs_number = 10\n",
        "sample_history = []\n",
        "best_val_loss = float(\"inf\")"
      ],
      "metadata": {
        "id": "5vaHRFVyogmC"
      },
      "execution_count": 13,
      "outputs": []
    },
    {
      "cell_type": "code",
      "source": [
        "def lrfinder(start, end, model, trainset_loader, epochs=2):\n",
        "    model.train() # into training mode\n",
        "    lrs = np.linspace(start, end, epochs*len(trainset_loader))\n",
        "    parameters = filter(lambda p: p.requires_grad, model.parameters()) # get all parameters which need grad\n",
        "    optimizer = torch.optim.Adam(rnn.parameters(),start)\n",
        "    loss_list = []\n",
        "    ctr = 0\n",
        "    \n",
        "    for epoch_number in range(epochs):\n",
        "        epoch_loss = []\n",
        "        for batch in trainset_loader:\n",
        "            optimizer.param_groups[0]['lr'] = lrs[ctr]\n",
        "            ctr = ctr+1\n",
        "\n",
        "            post_processed_batch_tuple = post_process_sequence_batch(batch)\n",
        "\n",
        "            input_sequences_batch, output_sequences_batch, sequences_lengths = post_processed_batch_tuple\n",
        "\n",
        "            output_sequences_batch_var =  Variable( output_sequences_batch.contiguous().view(-1).cuda() )\n",
        "\n",
        "            input_sequences_batch_var = Variable( input_sequences_batch.cuda() )\n",
        "\n",
        "            optimizer.zero_grad()\n",
        "\n",
        "            logits, _ = model(input_sequences_batch_var, sequences_lengths)\n",
        "\n",
        "            loss = criterion(logits, output_sequences_batch_var)\n",
        "            loss_list.append(loss.item())\n",
        "            loss.backward()\n",
        "\n",
        "            torch.nn.utils.clip_grad_norm_(rnn.parameters(), clip)\n",
        "\n",
        "            optimizer.step()\n",
        "        print('Epoch %d' % epoch_number)\n",
        "    plt.plot(lrs, loss_list)\n",
        "    return lrs, loss_list"
      ],
      "metadata": {
        "id": "akAdkbZkolNi"
      },
      "execution_count": 14,
      "outputs": []
    },
    {
      "cell_type": "code",
      "source": [
        "rnn = RNN(input_size=88, hidden_size=512, num_classes=88)\n",
        "rnn = rnn.cuda()\n",
        "lrs, losses = lrfinder(1e-4, 1e-1*5, rnn, trainset_loader)"
      ],
      "metadata": {
        "id": "f5SDm0Fponqy",
        "colab": {
          "base_uri": "https://localhost:8080/",
          "height": 301
        },
        "outputId": "b86b8864-d0e1-44fc-a9c9-0e88b8022187"
      },
      "execution_count": 15,
      "outputs": [
        {
          "output_type": "stream",
          "name": "stdout",
          "text": [
            "Epoch 0\n",
            "Epoch 1\n"
          ]
        },
        {
          "output_type": "display_data",
          "data": {
            "text/plain": [
              "<Figure size 432x288 with 1 Axes>"
            ],
            "image/png": "[encoded data removed]"
          },
          "metadata": {
            "needs_background": "light"
          }
        }
      ]
    },
    {
      "cell_type": "code",
      "source": [
        "plt.plot(lrs[:15], losses[:15])"
      ],
      "metadata": {
        "id": "A-IEp6q7oqte",
        "colab": {
          "base_uri": "https://localhost:8080/",
          "height": 283
        },
        "outputId": "30103cc4-7b90-440c-e5c2-a3a15c539ae9"
      },
      "execution_count": 16,
      "outputs": [
        {
          "output_type": "execute_result",
          "data": {
            "text/plain": [
              "[<matplotlib.lines.Line2D at 0x7f483e219710>]"
            ]
          },
          "metadata": {},
          "execution_count": 16
        },
        {
          "output_type": "display_data",
          "data": {
            "text/plain": [
              "<Figure size 432x288 with 1 Axes>"
            ],
            "image/png": "[encoded data removed]"
          },
          "metadata": {
            "needs_background": "light"
          }
        }
      ]
    },
    {
      "cell_type": "code",
      "source": [
        "def get_triangular_lr(lr_low, lr_high, mini_batches):\n",
        "    iterations = mini_batches\n",
        "    lr_mid = lr_high/7 + lr_low\n",
        "    up = np.linspace(lr_low, lr_high, int(round(iterations*0.35)))\n",
        "    down = np.linspace(lr_high, lr_mid, int(round(iterations*0.35)))\n",
        "    floor = np.linspace(lr_mid, lr_low, int(round(iterations*0.30)))\n",
        "    return np.hstack([up, down[1:], floor])\n",
        "\n",
        "lrs_triangular = get_triangular_lr(1e-2, 1e-2*3.5, len(trainset_loader))\n",
        "plt.plot(lrs_triangular)"
      ],
      "metadata": {
        "id": "-lIwOulnoupb",
        "colab": {
          "base_uri": "https://localhost:8080/",
          "height": 283
        },
        "outputId": "24c82536-3125-4bc3-9155-fa7973bd8196"
      },
      "execution_count": 17,
      "outputs": [
        {
          "output_type": "execute_result",
          "data": {
            "text/plain": [
              "[<matplotlib.lines.Line2D at 0x7f483e18bfd0>]"
            ]
          },
          "metadata": {},
          "execution_count": 17
        },
        {
          "output_type": "display_data",
          "data": {
            "text/plain": [
              "<Figure size 432x288 with 1 Axes>"
            ],
            "image/png": "[encoded data removed]"
          },
          "metadata": {
            "needs_background": "light"
          }
        }
      ]
    },
    {
      "cell_type": "code",
      "source": [
        "clip = 1.0"
      ],
      "metadata": {
        "id": "buqTRVKcowHC"
      },
      "execution_count": 18,
      "outputs": []
    },
    {
      "cell_type": "code",
      "source": [
        "def train_model(model, lrs_triangular, epochs_number=2, wd=0.0, best_val_loss=float(\"inf\")):\n",
        "    loss_list = []\n",
        "    val_list =[]\n",
        "    optimizer = torch.optim.Adam(rnn.parameters(), lr=lrs_triangular[0], weight_decay=wd)\n",
        "    for epoch_number in range(epochs_number):\n",
        "        model.train()\n",
        "        epoch_loss = []\n",
        "        for lr, batch in zip(lrs_triangular, trainset_loader):\n",
        "            optimizer.param_groups[0]['lr'] = lr\n",
        "\n",
        "            post_processed_batch_tuple = post_process_sequence_batch(batch)\n",
        "\n",
        "            input_sequences_batch, output_sequences_batch, sequences_lengths = post_processed_batch_tuple\n",
        "\n",
        "            output_sequences_batch_var =  Variable( output_sequences_batch.contiguous().view(-1).cuda() )\n",
        "\n",
        "            input_sequences_batch_var = Variable( input_sequences_batch.cuda() )\n",
        "\n",
        "            optimizer.zero_grad()\n",
        "\n",
        "            logits, _ = model(input_sequences_batch_var, sequences_lengths)\n",
        "\n",
        "            loss = criterion(logits, output_sequences_batch_var)\n",
        "            loss_list.append(loss.item())\n",
        "            epoch_loss.append(loss.item())\n",
        "            loss.backward()\n",
        "\n",
        "            torch.nn.utils.clip_grad_norm_(model.parameters(), clip)\n",
        "\n",
        "            optimizer.step()\n",
        "\n",
        "        current_trn_epoch = sum(epoch_loss)/len(trainset_loader)\n",
        "        print('Training Loss: Epoch:',epoch_number,':', current_trn_epoch)\n",
        "\n",
        "        current_val_loss = validate(model)\n",
        "        print('Validation Loss: Epoch:',epoch_number,':', current_val_loss)\n",
        "        print('')\n",
        "\n",
        "        val_list.append(current_val_loss)\n",
        "\n",
        "        if current_val_loss < best_val_loss:\n",
        "\n",
        "            torch.save(model.state_dict(), 'music_model_padfront_regularized.pth')\n",
        "            best_val_loss = current_val_loss\n",
        "    return best_val_loss"
      ],
      "metadata": {
        "id": "Uu4yGDwYoyyy"
      },
      "execution_count": 19,
      "outputs": []
    },
    {
      "cell_type": "code",
      "source": [
        "rnn = RNN(input_size=88, hidden_size=512, num_classes=88)\n",
        "rnn = rnn.cuda()\n",
        "lrs_triangular = get_triangular_lr(1e-2, 1e-2*3.5, len(trainset_loader))\n",
        "best_val_loss = train_model(rnn, lrs_triangular)"
      ],
      "metadata": {
        "id": "I9-tEpzoo2Ub",
        "colab": {
          "base_uri": "https://localhost:8080/"
        },
        "outputId": "34a94a54-a251-4d7e-894b-7b2dc21fa0b5"
      },
      "execution_count": 20,
      "outputs": [
        {
          "output_type": "stream",
          "name": "stdout",
          "text": [
            "Training Loss: Epoch: 0 : 0.2258114146805087\n",
            "Validation Loss: Epoch: 0 : 7.387781365614333e-07\n",
            "\n",
            "Training Loss: Epoch: 1 : 0.10174081145330917\n",
            "Validation Loss: Epoch: 1 : 6.866459451336118e-07\n",
            "\n"
          ]
        }
      ]
    },
    {
      "cell_type": "code",
      "source": [
        "lrs_triangular = get_triangular_lr(1e-3, 1e-2, len(trainset_loader))\n",
        "best_val_loss = train_model(rnn, lrs_triangular, epochs_number=2, wd=1e-4, best_val_loss=best_val_loss)"
      ],
      "metadata": {
        "id": "5L9RL91to45G",
        "colab": {
          "base_uri": "https://localhost:8080/"
        },
        "outputId": "cea270aa-71d5-48d9-a8f3-c6cdb4cd74a6"
      },
      "execution_count": 21,
      "outputs": [
        {
          "output_type": "stream",
          "name": "stdout",
          "text": [
            "Training Loss: Epoch: 0 : 0.09904492967004\n",
            "Validation Loss: Epoch: 0 : 6.104699925206434e-07\n",
            "\n",
            "Training Loss: Epoch: 1 : 0.09391626984227536\n",
            "Validation Loss: Epoch: 1 : 6.007683575161921e-07\n",
            "\n"
          ]
        }
      ]
    },
    {
      "cell_type": "code",
      "source": [
        "lrs_triangular = get_triangular_lr(1e-4, 1e-2, len(trainset_loader))\n",
        "best_val_loss = train_model(rnn, lrs_triangular, epochs_number=2, wd=1e-4*5, best_val_loss=best_val_loss)"
      ],
      "metadata": {
        "id": "rFu7ah8Fo77f",
        "colab": {
          "base_uri": "https://localhost:8080/"
        },
        "outputId": "a768e260-658d-40c2-b731-2cbbed0ccb1a"
      },
      "execution_count": 22,
      "outputs": [
        {
          "output_type": "stream",
          "name": "stdout",
          "text": [
            "Training Loss: Epoch: 0 : 0.09772975898759309\n",
            "Validation Loss: Epoch: 0 : 6.131783371627626e-07\n",
            "\n",
            "Training Loss: Epoch: 1 : 0.09939554056455922\n",
            "Validation Loss: Epoch: 1 : 6.376460338094019e-07\n",
            "\n"
          ]
        }
      ]
    },
    {
      "cell_type": "code",
      "source": [
        "rnn.load_state_dict(torch.load('music_model_padfront_regularized.pth'))"
      ],
      "metadata": {
        "id": "grMffchXo_O4",
        "colab": {
          "base_uri": "https://localhost:8080/"
        },
        "outputId": "278233e0-3fa8-4b68-e1ae-7aa3ea633706"
      },
      "execution_count": 23,
      "outputs": [
        {
          "output_type": "execute_result",
          "data": {
            "text/plain": [
              "<All keys matched successfully>"
            ]
          },
          "metadata": {},
          "execution_count": 23
        }
      ]
    },
    {
      "cell_type": "code",
      "source": [
        "def sample_from_piano_rnn(rnn, sample_length=4, temperature=1, starting_sequence=None):\n",
        "\n",
        "    if starting_sequence is None:\n",
        "                \n",
        "        current_sequence_input = torch.zeros(1, 1, 88)\n",
        "        current_sequence_input[0, 0, 40] = 1\n",
        "        current_sequence_input[0, 0, 50] = 0\n",
        "        current_sequence_input[0, 0, 56] = 0\n",
        "        current_sequence_input = Variable(current_sequence_input.cuda())\n",
        "    else:\n",
        "        current_sequence_input = starting_sequence\n",
        "        \n",
        "    final_output_sequence = [current_sequence_input.data.squeeze(1)]\n",
        "\n",
        "    hidden = None\n",
        "\n",
        "    for i in range(sample_length):\n",
        "\n",
        "        output, hidden = rnn(current_sequence_input, [1], hidden)\n",
        "\n",
        "        probabilities = nn.functional.softmax(output.div(temperature), dim=1)\n",
        "\n",
        "        current_sequence_input = torch.multinomial(probabilities.data, 1).squeeze().unsqueeze(0).unsqueeze(1)\n",
        "\n",
        "        current_sequence_input = Variable(current_sequence_input.float())\n",
        "\n",
        "        final_output_sequence.append(current_sequence_input.data.squeeze(1))\n",
        "\n",
        "    sampled_sequence = torch.cat(final_output_sequence, dim=0).cpu().numpy()\n",
        "    \n",
        "    return sampled_sequence"
      ],
      "metadata": {
        "id": "VfusI_hvpFhX"
      },
      "execution_count": 24,
      "outputs": []
    },
    {
      "cell_type": "code",
      "source": [
        "testset = NotesGenerationDataset(data_path + '/Nottingham/test/', longest_sequence_length=None)\n",
        "\n",
        "testset_loader = torch.utils.data.DataLoader(testset, batch_size=1,shuffle=True, drop_last=False)"
      ],
      "metadata": {
        "id": "367JIAQCpIn_"
      },
      "execution_count": 25,
      "outputs": []
    },
    {
      "cell_type": "code",
      "source": [
        "batch = next(iter(testset_loader))\n",
        "post_processed_batch_tuple = post_process_sequence_batch(batch)\n",
        "\n",
        "input_sequences_batch, output_sequences_batch, sequences_lengths = post_processed_batch_tuple\n",
        "\n",
        "output_sequences_batch_var =  output_sequences_batch.contiguous().view(-1).cuda()\n",
        "\n",
        "input_sequences_batch_var = input_sequences_batch.cuda()\n",
        "input_sequences_batch_var.shape"
      ],
      "metadata": {
        "id": "d-C_9AYcpKfK",
        "colab": {
          "base_uri": "https://localhost:8080/"
        },
        "outputId": "aac6aa00-f6da-42f4-8250-9028d05d00fa"
      },
      "execution_count": 26,
      "outputs": [
        {
          "output_type": "execute_result",
          "data": {
            "text/plain": [
              "torch.Size([160, 1, 88])"
            ]
          },
          "metadata": {},
          "execution_count": 26
        }
      ]
    },
    {
      "cell_type": "code",
      "source": [
        "plt.imshow(input_sequences_batch_var.reshape((input_sequences_batch_var.shape[0],88)).transpose(0,1).cpu())"
      ],
      "metadata": {
        "id": "vvQMf4W0pMnW",
        "colab": {
          "base_uri": "https://localhost:8080/",
          "height": 253
        },
        "outputId": "25d27fcb-66b8-42ca-ae60-ad81fe826bec"
      },
      "execution_count": 27,
      "outputs": [
        {
          "output_type": "execute_result",
          "data": {
            "text/plain": [
              "<matplotlib.image.AxesImage at 0x7f483e170310>"
            ]
          },
          "metadata": {},
          "execution_count": 27
        },
        {
          "output_type": "display_data",
          "data": {
            "text/plain": [
              "<Figure size 432x288 with 1 Axes>"
            ],
            "image/png": "[encoded data removed]"
          },
          "metadata": {
            "needs_background": "light"
          }
        }
      ]
    },
    {
      "cell_type": "code",
      "source": [
        "sample = sample_from_piano_rnn(rnn, sample_length=200, temperature=0.7,starting_sequence=None).transpose()\n",
        "io.imshow(sample)\n",
        "midiwrite(f'{results_path}resultLSTM.mid', sample.transpose(), dt=0.3)"
      ],
      "metadata": {
        "id": "h91MNfsRpQgZ",
        "colab": {
          "base_uri": "https://localhost:8080/",
          "height": 218
        },
        "outputId": "e3e6412a-dc8e-456c-9a08-a4eb2c41fa53"
      },
      "execution_count": 28,
      "outputs": [
        {
          "output_type": "display_data",
          "data": {
            "text/plain": [
              "<Figure size 432x288 with 1 Axes>"
            ],
            "image/png": "[encoded data removed]"
          },
          "metadata": {
            "needs_background": "light"
          }
        }
      ]
    }
  ]
}